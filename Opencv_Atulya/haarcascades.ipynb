{
 "cells": [
  {
   "cell_type": "code",
   "execution_count": 9,
   "metadata": {},
   "outputs": [],
   "source": [
    "import cv2"
   ]
  },
  {
   "cell_type": "code",
   "execution_count": 10,
   "metadata": {},
   "outputs": [],
   "source": [
    "img = cv2.imread(\"assets//images//faces.jpg\")\n",
    "cv2.imshow(\"Faces\",img)\n",
    "cv2.waitKey(0)\n",
    "cv2.destroyAllWindows()"
   ]
  },
  {
   "cell_type": "code",
   "execution_count": 16,
   "metadata": {},
   "outputs": [],
   "source": [
    "facecascade = cv2.CascadeClassifier('assets//cascades//haarcascade_frontalface_default.xml')\n",
    "gray = cv2.cvtColor(img,cv2.COLOR_BGR2GRAY)\n",
    "facecoor = facecascade.detectMultiScale(gray, 1.1, 10)\n",
    "img2 = img.copy()\n",
    "for (fx, fy, fw, fh) in facecoor:\n",
    "    cv2.rectangle(img2,(fx,fy),(fx+fw,fy+fh),(0,255,0),2)\n",
    "cv2.imshow(\"detected\",img2)\n",
    "cv2.waitKey(0)\n",
    "cv2.destroyAllWindows()\n"
   ]
  },
  {
   "cell_type": "code",
   "execution_count": 17,
   "metadata": {},
   "outputs": [],
   "source": [
    "img3 = img.copy()\n",
    "eyecascade = cv2.CascadeClassifier('assets//cascades//haarcascade_eye.xml')\n",
    "smilecascade = cv2.CascadeClassifier('assets//cascades//haarcascade_smile.xml')\n",
    "facecoor = facecascade.detectMultiScale(gray, 1.1, 10)\n",
    "for (fx, fy, fw, fh) in facecoor:\n",
    "    cv2.rectangle(img,(fx,fy),(fx+fw,fy+fh),(0,255,0),2)\n",
    "    ROI = gray[fy:fy+fh,fx:fx+fw]\n",
    "    eyecoor = eyecascade.detectMultiScale(ROI, 1.1, 10)\n",
    "    smilecoor = smilecascade.detectMultiScale(ROI, 1.1, 18)\n",
    "    for (ex, ey, ew, eh) in eyecoor:\n",
    "        cv2.rectangle(img3,(fx+ex,fy+ey),(fx+ex+ew,fy+ey+eh),(255,0,0),2)\n",
    "    for (sx, sy, sw, sh) in smilecoor:\n",
    "        cv2.rectangle(img3,(fx+sx,fy+sy),(fx+sx+sw,fy+sy+sh),(0,0,255),2)\n",
    "cv2.imshow(\"detected\",img3)\n",
    "cv2.waitKey(0)\n",
    "cv2.destroyAllWindows()"
   ]
  },
  {
   "cell_type": "code",
   "execution_count": null,
   "metadata": {},
   "outputs": [],
   "source": []
  }
 ],
 "metadata": {
  "interpreter": {
   "hash": "1acc9de6222209ae68b885bb20af33354269db69f65eec804e0118f54b29f529"
  },
  "kernelspec": {
   "display_name": "Python 3.8.10 ('pythonX')",
   "language": "python",
   "name": "python3"
  },
  "language_info": {
   "codemirror_mode": {
    "name": "ipython",
    "version": 3
   },
   "file_extension": ".py",
   "mimetype": "text/x-python",
   "name": "python",
   "nbconvert_exporter": "python",
   "pygments_lexer": "ipython3",
   "version": "3.8.10"
  },
  "orig_nbformat": 4
 },
 "nbformat": 4,
 "nbformat_minor": 2
}
