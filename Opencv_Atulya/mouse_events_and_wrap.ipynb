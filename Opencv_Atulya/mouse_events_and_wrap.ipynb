{
 "cells": [
  {
   "cell_type": "code",
   "execution_count": 1,
   "metadata": {},
   "outputs": [],
   "source": [
    "import cv2\n",
    "import numpy as np"
   ]
  },
  {
   "cell_type": "code",
   "execution_count": 20,
   "metadata": {},
   "outputs": [],
   "source": [
    "img = cv2.imread(\"assets//images//scenary.jpg\")\n",
    "cv2.imshow(\"original\",img)\n",
    "cv2.waitKey(0)\n",
    "cv2.destroyAllWindows()"
   ]
  },
  {
   "cell_type": "code",
   "execution_count": 4,
   "metadata": {},
   "outputs": [],
   "source": [
    "img2 = img[200:600,200:600]\n",
    "cv2.imshow(\"slice\",img2)\n",
    "cv2.waitKey(0)\n",
    "cv2.destroyAllWindows()"
   ]
  },
  {
   "cell_type": "code",
   "execution_count": 5,
   "metadata": {},
   "outputs": [
    {
     "name": "stdout",
     "output_type": "stream",
     "text": [
      "Select a ROI and then press SPACE or ENTER button!\n",
      "Cancel the selection process by pressing c button!\n",
      "(373, 189, 764, 482)\n"
     ]
    }
   ],
   "source": [
    "box = cv2.selectROI(\"test\",img,False)\n",
    "print(box)\n",
    "img3 = img[box[1]:box[1]+box[3],box[0]:box[0]+box[2]]\n",
    "cv2.imshow(\"ROI\",img3)\n",
    "cv2.waitKey(0)\n",
    "cv2.destroyAllWindows()"
   ]
  },
  {
   "cell_type": "code",
   "execution_count": 24,
   "metadata": {},
   "outputs": [
    {
     "data": {
      "text/plain": [
       "array([[  0.8660254 ,   0.5       , -36.60254038],\n",
       "       [ -0.5       ,   0.8660254 ,  63.39745962]])"
      ]
     },
     "execution_count": 24,
     "metadata": {},
     "output_type": "execute_result"
    }
   ],
   "source": [
    "# cv2.getAffineTransform()\n",
    "# k = cv2.getDerivKernels(1,0,3)\n",
    "# np.dot(k[0],k[1].T)"
   ]
  },
  {
   "cell_type": "code",
   "execution_count": 23,
   "metadata": {},
   "outputs": [],
   "source": [
    "X, Y = 100, 200\n",
    "trans_mat = np.array([[1,0,X],[0,1,Y]],np.float32)\n",
    "h,w = img.shape[:-1]\n",
    "trans = cv2.warpAffine(img,trans_mat,(w,h))\n",
    "cv2.imshow(f\"translated at {(X,Y)}\",trans)\n",
    "cv2.waitKey(0)\n",
    "cv2.destroyAllWindows()"
   ]
  },
  {
   "cell_type": "code",
   "execution_count": 28,
   "metadata": {},
   "outputs": [],
   "source": [
    "angle = 30\n",
    "rot_point = w//2, h//2\n",
    "rot_mat = cv2.getRotationMatrix2D(rot_point,angle,1)\n",
    "rot = cv2.warpAffine(img,rot_mat,(w,h))\n",
    "cv2.imshow(f\"rotated at {rot_point} by an angle of {angle}\",rot)\n",
    "cv2.waitKey(0)\n",
    "cv2.destroyAllWindows()"
   ]
  },
  {
   "cell_type": "code",
   "execution_count": null,
   "metadata": {},
   "outputs": [],
   "source": []
  },
  {
   "cell_type": "code",
   "execution_count": null,
   "metadata": {},
   "outputs": [],
   "source": []
  }
 ],
 "metadata": {
  "interpreter": {
   "hash": "1acc9de6222209ae68b885bb20af33354269db69f65eec804e0118f54b29f529"
  },
  "kernelspec": {
   "display_name": "Python 3.8.10 ('pythonX')",
   "language": "python",
   "name": "python3"
  },
  "language_info": {
   "codemirror_mode": {
    "name": "ipython",
    "version": 3
   },
   "file_extension": ".py",
   "mimetype": "text/x-python",
   "name": "python",
   "nbconvert_exporter": "python",
   "pygments_lexer": "ipython3",
   "version": "3.8.10"
  },
  "orig_nbformat": 4
 },
 "nbformat": 4,
 "nbformat_minor": 2
}
