{
 "cells": [
  {
   "cell_type": "code",
   "execution_count": 1,
   "metadata": {},
   "outputs": [],
   "source": [
    "import cv2\n",
    "import numpy as np"
   ]
  },
  {
   "cell_type": "code",
   "execution_count": 68,
   "metadata": {},
   "outputs": [
    {
     "name": "stdout",
     "output_type": "stream",
     "text": [
      "[[[0 0 0]\n",
      "  [0 0 0]\n",
      "  [0 0 0]\n",
      "  ...\n",
      "  [0 0 0]\n",
      "  [0 0 0]\n",
      "  [0 0 0]]\n",
      "\n",
      " [[0 0 0]\n",
      "  [0 0 0]\n",
      "  [0 0 0]\n",
      "  ...\n",
      "  [0 0 0]\n",
      "  [0 0 0]\n",
      "  [0 0 0]]\n",
      "\n",
      " [[0 0 0]\n",
      "  [0 0 0]\n",
      "  [0 0 0]\n",
      "  ...\n",
      "  [0 0 0]\n",
      "  [0 0 0]\n",
      "  [0 0 0]]\n",
      "\n",
      " ...\n",
      "\n",
      " [[0 0 0]\n",
      "  [0 0 0]\n",
      "  [0 0 0]\n",
      "  ...\n",
      "  [0 0 0]\n",
      "  [0 0 0]\n",
      "  [0 0 0]]\n",
      "\n",
      " [[0 0 0]\n",
      "  [0 0 0]\n",
      "  [0 0 0]\n",
      "  ...\n",
      "  [0 0 0]\n",
      "  [0 0 0]\n",
      "  [0 0 0]]\n",
      "\n",
      " [[0 0 0]\n",
      "  [0 0 0]\n",
      "  [0 0 0]\n",
      "  ...\n",
      "  [0 0 0]\n",
      "  [0 0 0]\n",
      "  [0 0 0]]]\n"
     ]
    }
   ],
   "source": [
    "blank_img = np.zeros((512,512,3),np.uint8)\n",
    "print(blank_img)"
   ]
  },
  {
   "cell_type": "code",
   "execution_count": 69,
   "metadata": {},
   "outputs": [],
   "source": [
    "cv2.imshow(\"blank\",blank_img)\n",
    "cv2.waitKey(0)\n",
    "cv2.destroyAllWindows()"
   ]
  },
  {
   "cell_type": "code",
   "execution_count": null,
   "metadata": {},
   "outputs": [],
   "source": [
    "cv2.line(blank_img,(10,10),(200,200),(255,0,0),5)\n",
    "cv2.imshow(\"blank\",blank_img)\n",
    "cv2.waitKey(0)\n",
    "cv2.destroyAllWindows()"
   ]
  },
  {
   "cell_type": "code",
   "execution_count": null,
   "metadata": {},
   "outputs": [],
   "source": [
    "cv2.rectangle(blank_img,(10,10),(200,200),(0,255,0),5)\n",
    "cv2.imshow(\"blank\",blank_img)\n",
    "cv2.waitKey(0)\n",
    "cv2.destroyAllWindows()"
   ]
  },
  {
   "cell_type": "code",
   "execution_count": null,
   "metadata": {},
   "outputs": [],
   "source": [
    "cv2.circle(blank_img,(256,256),100,(0,0,255),5)\n",
    "cv2.imshow(\"blank\",blank_img)\n",
    "cv2.waitKey(0)\n",
    "cv2.destroyAllWindows()"
   ]
  },
  {
   "cell_type": "code",
   "execution_count": null,
   "metadata": {},
   "outputs": [],
   "source": [
    "cv2.ellipse(blank_img,(400,400),(100,50),0,0,360,(255,255,255),5)\n",
    "cv2.imshow(\"blank\",blank_img)\n",
    "cv2.waitKey(0)\n",
    "cv2.destroyAllWindows()"
   ]
  },
  {
   "cell_type": "code",
   "execution_count": null,
   "metadata": {},
   "outputs": [],
   "source": [
    "cv2.putText(blank_img,\"Hello OpenCV\",(220,120),cv2.FONT_HERSHEY_SIMPLEX,1,(54,86,210),5)\n",
    "cv2.imshow(\"blank\",blank_img)\n",
    "cv2.waitKey(0)\n",
    "cv2.destroyAllWindows()"
   ]
  },
  {
   "cell_type": "code",
   "execution_count": null,
   "metadata": {},
   "outputs": [],
   "source": [
    "pts = np.array([[250,450],[50,360],[120,360],[100,200]])\n",
    "pts2 = np.array([[25,45],[50,30],[10,360],[100,20]])\n",
    "cv2.polylines( blank_img,[pts2,pts],True,(54,36,100),5)\n",
    "cv2.imshow(\"blank\",blank_img)\n",
    "cv2.waitKey(0)\n",
    "cv2.destroyAllWindows()"
   ]
  },
  {
   "cell_type": "code",
   "execution_count": null,
   "metadata": {},
   "outputs": [],
   "source": [
    "pts3 = np.array([[205,405],[500,30],[100,306],[10,200]])\n",
    "cv2.fillPoly(blank_img,[pts3],(54,96,35))\n",
    "cv2.imshow(\"blank\",blank_img)\n",
    "cv2.waitKey(0)\n",
    "cv2.destroyAllWindows()"
   ]
  },
  {
   "cell_type": "code",
   "execution_count": 80,
   "metadata": {},
   "outputs": [],
   "source": [
    "img = cv2.imread(\"assets//images//scenary.jpg\")\n",
    "mask = np.zeros(img.shape,np.uint8)\n",
    "cv2.rectangle(mask,(220,220),(1000,600),(0,0,255),-1)\n",
    "cv2.imshow(\"original\",img)\n",
    "cv2.imshow(\"mask\",mask)\n",
    "cv2.waitKey(0)\n",
    "cv2.destroyAllWindows()"
   ]
  },
  {
   "cell_type": "code",
   "execution_count": 66,
   "metadata": {},
   "outputs": [
    {
     "name": "stdout",
     "output_type": "stream",
     "text": [
      "255\n",
      "0\n"
     ]
    }
   ],
   "source": [
    "bitand = cv2.bitwise_and(img,mask)\n",
    "cv2.imshow(\"output\",bitand)\n",
    "cv2.waitKey(0)\n",
    "cv2.destroyAllWindows()\n",
    "print(np.max(bitand[220:600,220:1000]))\n",
    "print(np.min(bitand[220:600,220:1000]))"
   ]
  },
  {
   "cell_type": "code",
   "execution_count": 67,
   "metadata": {},
   "outputs": [
    {
     "name": "stdout",
     "output_type": "stream",
     "text": [
      "255\n",
      "255\n"
     ]
    }
   ],
   "source": [
    "bitor = cv2.bitwise_or(img,mask)\n",
    "cv2.imshow(\"output\",bitor)\n",
    "cv2.waitKey(0)\n",
    "cv2.destroyAllWindows()\n",
    "print(np.max(bitor[220:600,220:1000]))\n",
    "print(np.min(bitor[220:600,220:1000]))"
   ]
  },
  {
   "cell_type": "code",
   "execution_count": 81,
   "metadata": {},
   "outputs": [
    {
     "name": "stdout",
     "output_type": "stream",
     "text": [
      "255\n",
      "0\n"
     ]
    }
   ],
   "source": [
    "bitxor = cv2.bitwise_xor(img,mask)\n",
    "cv2.imshow(\"output\",bitxor)\n",
    "cv2.waitKey(0)\n",
    "cv2.destroyAllWindows()\n",
    "print(np.max(bitxor[220:600,220:1000]))\n",
    "print(np.min(bitxor[220:600,220:1000]))"
   ]
  },
  {
   "cell_type": "code",
   "execution_count": 152,
   "metadata": {},
   "outputs": [
    {
     "name": "stdout",
     "output_type": "stream",
     "text": [
      "[[[153  35  30]\n",
      "  [160  76 194]\n",
      "  [ 21  52 163]\n",
      "  [252 157  12]]\n",
      "\n",
      " [[241 106  10]\n",
      "  [209 149  11]\n",
      "  [156  68 184]\n",
      "  [ 43 102  56]]\n",
      "\n",
      " [[ 67  81 190]\n",
      "  [102 235 211]\n",
      "  [ 52 103 153]\n",
      "  [ 41  15 216]]\n",
      "\n",
      " [[134 231 221]\n",
      "  [141  45 190]\n",
      "  [ 16 216  41]\n",
      "  [ 11 104 230]]]\n"
     ]
    }
   ],
   "source": [
    "np.random.seed(42)\n",
    "demo = np.random.randint(0,256,size=(4,4,3),dtype=np.uint8)\n",
    "mask = np.zeros(demo.shape,np.uint8)\n",
    "cv2.rectangle(mask,(0,0),(4,4),(255,255,255),-1)\n",
    "bit = cv2.bitwise_xor(demo,mask)\n",
    "cv2.imshow(\"demo\",mask)\n",
    "cv2.imshow(\"bit\",bit)\n",
    "cv2.waitKey(0)\n",
    "cv2.destroyAllWindows()\n",
    "print(bit)"
   ]
  },
  {
   "cell_type": "code",
   "execution_count": 153,
   "metadata": {},
   "outputs": [
    {
     "data": {
      "text/plain": [
       "array([[[102, 220, 225],\n",
       "        [ 95, 179,  61],\n",
       "        [234, 203,  92],\n",
       "        [  3,  98, 243]],\n",
       "\n",
       "       [[ 14, 149, 245],\n",
       "        [ 46, 106, 244],\n",
       "        [ 99, 187,  71],\n",
       "        [212, 153, 199]],\n",
       "\n",
       "       [[188, 174,  65],\n",
       "        [153,  20,  44],\n",
       "        [203, 152, 102],\n",
       "        [214, 240,  39]],\n",
       "\n",
       "       [[121,  24,  34],\n",
       "        [114, 210,  65],\n",
       "        [239,  39, 214],\n",
       "        [244, 151,  25]]], dtype=uint8)"
      ]
     },
     "execution_count": 153,
     "metadata": {},
     "output_type": "execute_result"
    }
   ],
   "source": [
    "demo"
   ]
  },
  {
   "cell_type": "code",
   "execution_count": 154,
   "metadata": {},
   "outputs": [
    {
     "data": {
      "text/plain": [
       "array([[[255, 255, 255],\n",
       "        [255, 255, 255],\n",
       "        [255, 255, 255],\n",
       "        [255, 255, 255]],\n",
       "\n",
       "       [[255, 255, 255],\n",
       "        [255, 255, 255],\n",
       "        [255, 255, 255],\n",
       "        [255, 255, 255]],\n",
       "\n",
       "       [[255, 255, 255],\n",
       "        [255, 255, 255],\n",
       "        [255, 255, 255],\n",
       "        [255, 255, 255]],\n",
       "\n",
       "       [[255, 255, 255],\n",
       "        [255, 255, 255],\n",
       "        [255, 255, 255],\n",
       "        [255, 255, 255]]], dtype=uint32)"
      ]
     },
     "execution_count": 154,
     "metadata": {},
     "output_type": "execute_result"
    }
   ],
   "source": [
    "demo.astype(np.uint32)+bit.astype(np.uint32)"
   ]
  },
  {
   "cell_type": "code",
   "execution_count": 155,
   "metadata": {},
   "outputs": [
    {
     "data": {
      "text/plain": [
       "array([[[False, False, False],\n",
       "        [False, False, False],\n",
       "        [False, False, False],\n",
       "        [False, False, False]],\n",
       "\n",
       "       [[False, False, False],\n",
       "        [False, False, False],\n",
       "        [False, False, False],\n",
       "        [False, False, False]],\n",
       "\n",
       "       [[False, False, False],\n",
       "        [False, False, False],\n",
       "        [False, False, False],\n",
       "        [False, False, False]],\n",
       "\n",
       "       [[False, False, False],\n",
       "        [False, False, False],\n",
       "        [False, False, False],\n",
       "        [False, False, False]]])"
      ]
     },
     "execution_count": 155,
     "metadata": {},
     "output_type": "execute_result"
    }
   ],
   "source": [
    "demo==bit"
   ]
  }
 ],
 "metadata": {
  "interpreter": {
   "hash": "1acc9de6222209ae68b885bb20af33354269db69f65eec804e0118f54b29f529"
  },
  "kernelspec": {
   "display_name": "Python 3.8.10 ('pythonX')",
   "language": "python",
   "name": "python3"
  },
  "language_info": {
   "codemirror_mode": {
    "name": "ipython",
    "version": 3
   },
   "file_extension": ".py",
   "mimetype": "text/x-python",
   "name": "python",
   "nbconvert_exporter": "python",
   "pygments_lexer": "ipython3",
   "version": "3.8.10"
  },
  "orig_nbformat": 4
 },
 "nbformat": 4,
 "nbformat_minor": 2
}
