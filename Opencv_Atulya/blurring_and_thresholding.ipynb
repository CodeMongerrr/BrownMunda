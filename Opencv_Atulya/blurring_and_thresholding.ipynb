{
 "cells": [
  {
   "cell_type": "code",
   "execution_count": 1,
   "metadata": {},
   "outputs": [],
   "source": [
    "import cv2"
   ]
  },
  {
   "cell_type": "markdown",
   "metadata": {},
   "source": [
    ">`Blurring` is an important image processing step. it makes the image easy for the computer to interpret by throwing out disturbing noises\n",
    ">\n",
    ">in opencv, we will mostly deal with 4 blurring operations\n",
    ">- `averaging`\n",
    ">- `median`\n",
    ">- `gaussian`\n",
    ">- `bilateralfilter` \n",
    ">\n",
    ">[Blurring images](https://docs.opencv.org/4.x/d4/d13/tutorial_py_filtering.html) for more reading\n",
    ">\n",
    ">[smoothing and blurring](https://pyimagesearch.com/2021/04/28/opencv-smoothing-and-blurring/)"
   ]
  },
  {
   "cell_type": "markdown",
   "metadata": {},
   "source": [
    ">lets first import the image"
   ]
  },
  {
   "cell_type": "code",
   "execution_count": 3,
   "metadata": {},
   "outputs": [],
   "source": [
    "img = cv2.imread(\"assets//images//lenna.jpg\")\n",
    "cv2.imshow(\"original\",img)\n",
    "cv2.waitKey(0)\n",
    "cv2.destroyAllWindows()"
   ]
  },
  {
   "cell_type": "markdown",
   "metadata": {},
   "source": [
    "><b>cv2.blur(img, kernelsize)</b> it just find the average of the neighbouring pixels and put that value in middle pixel by convoving the image with a normalized kernel of size <i>`@kernelsize`</i>\n",
    ">\n",
    ">a averaging kernel of size 3\n",
    ">\n",
    ">![average](assets//images//average.png)\n",
    ">\n",
    ">for knowing more about its parameters read [doc.py](assets//doc.py) in the assets folder, and search the function in the py file"
   ]
  },
  {
   "cell_type": "code",
   "execution_count": 4,
   "metadata": {},
   "outputs": [],
   "source": [
    "blur = cv2.blur(img,(5,5))\n",
    "cv2.imshow(\"original\",img)\n",
    "cv2.imshow(\"blur\",blur)\n",
    "cv2.waitKey(0)\n",
    "cv2.destroyAllWindows()"
   ]
  },
  {
   "cell_type": "markdown",
   "metadata": {},
   "source": [
    "><b>cv2.medianBlur(img, ksize)</b> it takes the median of all the pixels under the kernel area and the central element is replaced with this median value\n",
    ">\n",
    "><i>`@ksize`</i> kernel size"
   ]
  },
  {
   "cell_type": "code",
   "execution_count": 5,
   "metadata": {},
   "outputs": [],
   "source": [
    "median = cv2.medianBlur(img,5)\n",
    "cv2.imshow(\"original\",img)\n",
    "cv2.imshow(\"median\",median)\n",
    "cv2.waitKey(0)\n",
    "cv2.destroyAllWindows()"
   ]
  },
  {
   "cell_type": "markdown",
   "metadata": {},
   "source": [
    "><b>cv2.GaussianBlur(img, ksize, sigmaX)</b> it also blurs an image by using a kernel of size <i>`@ksize`</i>, but this time the kernel weights are determined by a gaussian distribution\n",
    ">\n",
    "><i>`@sigmaX`</i> standard deviation of the gaussian function. if it is provided 0, then its calculated by the <i>`@ksize`</i>\n",
    ">\n",
    ">for knowing more about its parameters read [doc.py](assets//doc.py) in the assets folder, and search the function in the py file"
   ]
  },
  {
   "cell_type": "code",
   "execution_count": 7,
   "metadata": {},
   "outputs": [],
   "source": [
    "gauss = cv2.GaussianBlur(img,(5,5),1)\n",
    "cv2.imshow(\"original\",img)\n",
    "cv2.imshow(\"gauss\",gauss)\n",
    "cv2.waitKey(0)\n",
    "cv2.destroyAllWindows()"
   ]
  },
  {
   "cell_type": "markdown",
   "metadata": {},
   "source": [
    "><b>bilat = cv2.bilateralFilter(img, diameter, sigcol, sigspac)</b> in this blurring operation, the image is blurred while keeping the edges sharp. it is a optimal choice if we want to blur by keeping edges intact\n",
    ">\n",
    "><i>`@diameter`</i> diameter of each pixel neighborhood that is used during filtering.\n",
    ">\n",
    "><i>`@sigcol`</i> Colour standard deviation. A larger value means that more colors in the neighborhood will be considered when computing the blur.\n",
    ">\n",
    "><i>`@sigspac`</i> Space standard deviation. A larger value means that pixels farther out from the central pixel diameter will influence the blurring calculation."
   ]
  },
  {
   "cell_type": "code",
   "execution_count": 8,
   "metadata": {},
   "outputs": [],
   "source": [
    "bilat = cv2.bilateralFilter(img,15,75,75)\n",
    "cv2.imshow(\"original\",img)\n",
    "cv2.imshow(\"bilat\",bilat)\n",
    "cv2.waitKey(0)\n",
    "cv2.destroyAllWindows()"
   ]
  },
  {
   "cell_type": "markdown",
   "metadata": {},
   "source": [
    ">lets see an example of noise removal by trying to find edges of a noisy image. we will also see what noises are and how they make it tough to interpret image"
   ]
  },
  {
   "cell_type": "code",
   "execution_count": 9,
   "metadata": {},
   "outputs": [],
   "source": [
    "noise = cv2.imread(\"assets//images//opencv_noise.jpg\")\n",
    "gray = cv2.cvtColor(noise,cv2.COLOR_BGR2GRAY)\n",
    "canny = cv2.Canny(gray,30,150)\n",
    "cv2.imshow(\"original\",noise)\n",
    "cv2.imshow(\"edges\",canny)\n",
    "cv2.waitKey(0)\n",
    "cv2.destroyAllWindows()"
   ]
  },
  {
   "cell_type": "markdown",
   "metadata": {},
   "source": [
    ">our canny edge detector is not working in this image. first we need to denoise it a bit and then try it"
   ]
  },
  {
   "cell_type": "code",
   "execution_count": 13,
   "metadata": {},
   "outputs": [],
   "source": [
    "mediannoise = cv2.medianBlur(noise,5)\n",
    "gray = cv2.cvtColor(mediannoise,cv2.COLOR_BGR2GRAY)\n",
    "canny1 = cv2.Canny(gray,30,150)\n",
    "cv2.imshow(\"original\",noise)\n",
    "cv2.imshow(\"median\",mediannoise)\n",
    "cv2.imshow(\"edges\",canny1)\n",
    "cv2.waitKey(0)\n",
    "cv2.destroyAllWindows()"
   ]
  },
  {
   "cell_type": "markdown",
   "metadata": {},
   "source": [
    ">works incredibly fine but we need to reduce it more. so again we will blur it but this time we will keep the edges intact for the ease of canny edge detector."
   ]
  },
  {
   "cell_type": "code",
   "execution_count": 14,
   "metadata": {},
   "outputs": [],
   "source": [
    "bilatnoise = cv2.bilateralFilter(mediannoise,15,75,75)\n",
    "gray = cv2.cvtColor(bilatnoise,cv2.COLOR_BGR2GRAY)\n",
    "canny2 = cv2.Canny(gray,30,150)\n",
    "cv2.imshow(\"original\",noise)\n",
    "cv2.imshow(\"bilat\",bilatnoise)\n",
    "cv2.imshow(\"edges\",canny2)\n",
    "cv2.waitKey(0)\n",
    "cv2.destroyAllWindows()"
   ]
  },
  {
   "cell_type": "code",
   "execution_count": 15,
   "metadata": {},
   "outputs": [],
   "source": [
    "gray = cv2.imread(\"assets//images//lenna.jpg\",0)\n",
    "ret, thresh = cv2.threshold(gray,100,255,cv2.THRESH_BINARY)\n",
    "cv2.imshow(\"original\",gray)\n",
    "cv2.imshow(f\"threshold {ret}\",thresh)\n",
    "cv2.waitKey(0)\n",
    "cv2.destroyAllWindows()"
   ]
  },
  {
   "cell_type": "code",
   "execution_count": 58,
   "metadata": {},
   "outputs": [],
   "source": [
    "ret, thresh = cv2.threshold(gray,100,255,cv2.THRESH_OTSU)\n",
    "cv2.imshow(\"original\",gray)\n",
    "cv2.imshow(f\"threshold {ret}\",thresh)\n",
    "cv2.waitKey(0)\n",
    "cv2.destroyAllWindows()"
   ]
  },
  {
   "cell_type": "code",
   "execution_count": 62,
   "metadata": {},
   "outputs": [],
   "source": [
    "thresh = cv2.adaptiveThreshold(gray, 255,cv2.ADAPTIVE_THRESH_MEAN_C, cv2.THRESH_BINARY_INV, 21, -5)\n",
    "cv2.imshow(\"original\",gray)\n",
    "cv2.imshow(\"threshold \",thresh)\n",
    "cv2.waitKey(0)\n",
    "cv2.destroyAllWindows()"
   ]
  },
  {
   "cell_type": "code",
   "execution_count": 71,
   "metadata": {},
   "outputs": [],
   "source": [
    "page = cv2.imread(\"assets//images//page.jpg\",0)\n",
    "adap = cv2.adaptiveThreshold(page, 255,cv2.ADAPTIVE_THRESH_MEAN_C, cv2.THRESH_BINARY, 21, 5)\n",
    "ret1, thresh = cv2.threshold(page,200,255,cv2.THRESH_BINARY)\n",
    "ret2, otsu = cv2.threshold(page,100,255,cv2.THRESH_OTSU)\n",
    "cv2.imshow(\"original\",page)\n",
    "cv2.imshow(f\"threshold {ret1}\",thresh)\n",
    "cv2.imshow(f\"otsu {ret2}\",otsu)\n",
    "cv2.imshow(\"adap\",adap)\n",
    "cv2.waitKey(0)\n",
    "cv2.destroyAllWindows()"
   ]
  },
  {
   "cell_type": "code",
   "execution_count": 67,
   "metadata": {},
   "outputs": [
    {
     "data": {
      "text/plain": [
       "True"
      ]
     },
     "execution_count": 67,
     "metadata": {},
     "output_type": "execute_result"
    }
   ],
   "source": [
    "page = cv2.imread(\"assets//images//ok.jpg\")\n",
    "cv2.imwrite(\"assets//images//page.jpg\",cv2.resize(page,None,fx=0.25,fy=0.25))"
   ]
  },
  {
   "cell_type": "code",
   "execution_count": null,
   "metadata": {},
   "outputs": [],
   "source": []
  }
 ],
 "metadata": {
  "interpreter": {
   "hash": "1acc9de6222209ae68b885bb20af33354269db69f65eec804e0118f54b29f529"
  },
  "kernelspec": {
   "display_name": "Python 3.8.10 ('pythonX')",
   "language": "python",
   "name": "python3"
  },
  "language_info": {
   "codemirror_mode": {
    "name": "ipython",
    "version": 3
   },
   "file_extension": ".py",
   "mimetype": "text/x-python",
   "name": "python",
   "nbconvert_exporter": "python",
   "pygments_lexer": "ipython3",
   "version": "3.8.10"
  },
  "orig_nbformat": 4
 },
 "nbformat": 4,
 "nbformat_minor": 2
}
