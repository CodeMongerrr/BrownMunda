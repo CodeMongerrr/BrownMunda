{
 "cells": [
  {
   "cell_type": "markdown",
   "metadata": {},
   "source": [
    ">First we import the required modules"
   ]
  },
  {
   "cell_type": "code",
   "execution_count": 1,
   "metadata": {},
   "outputs": [],
   "source": [
    "import cv2 #importing module"
   ]
  },
  {
   "cell_type": "markdown",
   "metadata": {},
   "source": [
    "><b>cv2.imread(filename, flag=1)</b> this function is used to load images\n",
    ">\n",
    "><i>`@filename`</i> name of the image file if in the same directory, otherwise its path//name\n",
    ">\n",
    "><i>`@flag`</i> default value is 1. set it to 0 if you want to import image in grayscale"
   ]
  },
  {
   "cell_type": "code",
   "execution_count": 2,
   "metadata": {},
   "outputs": [],
   "source": [
    "img = cv2.imread(\"assets//images//lenna.jpg\")"
   ]
  },
  {
   "cell_type": "markdown",
   "metadata": {},
   "source": [
    "><b>cv2.imshow(window name, image matrix)</b> used to create a window and show the image\n",
    ">\n",
    "><b>cv2.waitkey(delay(ms))</b>, hold the window for <i>`@delay`</i> ms. if given 0, hold the window forever. it can be interuppted by pressing any key, in which case it will leave the window immediately and returns the ASCII value of the pressed key\n",
    ">\n",
    ">you can also try\n",
    ">\n",
    ">>key = cv2.waitKey(0)\n",
    ">>\n",
    ">>print(key)\n",
    ">\n",
    ">and see the output\n",
    ">\n",
    "><b>cv2.destroyAllWindows()</b> Destroys all the oppened windows"
   ]
  },
  {
   "cell_type": "code",
   "execution_count": 3,
   "metadata": {},
   "outputs": [
    {
     "name": "stdout",
     "output_type": "stream",
     "text": [
      "113\n"
     ]
    }
   ],
   "source": [
    "cv2.imshow(\"output\",img)\n",
    "key = cv2.waitKey(0) \n",
    "\n",
    "cv2.destroyAllWindows()\n",
    "print(key)"
   ]
  },
  {
   "cell_type": "markdown",
   "metadata": {},
   "source": [
    "><b>cv2.Sobel()</b> calculates the image derivatives along x or y direction\n",
    ">\n",
    "><i>`@ddepth`</i> it should be set to either float or signed integer as image gradients can be negative which is not handled by 8 bit >unsigned ints(default dtype of image matrix)\n",
    ">\n",
    "><i>`@dx`</i> no. of times we want to find x graidients\n",
    ">\n",
    "><i>`@dy`</i> no. of times we want to find y graidients\n",
    ">\n",
    "><i>`@ksize`</i> size of sobel kernel. must be positive odd number. or set it to -1 to use scharr kernel. remember for using scharr kernel, dx + dy = 1 must be satisfied\n",
    ">\n",
    ">![Sobel](assets//images//sobel.png)  \n",
    ">![Scharr](assets//images//scharr.png)\n",
    ">\n",
    ">for knowing more about its parameters read [doc.py](assets//doc.py) in the assets folder, and search the function in the py file\n",
    ">\n",
    ">[image gradients](https://pyimagesearch.com/2021/05/12/image-gradients-with-opencv-sobel-and-scharr/) is an excellent blog to read more about it"
   ]
  },
  {
   "cell_type": "code",
   "execution_count": 4,
   "metadata": {},
   "outputs": [
    {
     "name": "stdout",
     "output_type": "stream",
     "text": [
      "[[161 161 160 ... 150 169 145]\n",
      " [160 160 160 ... 169 186 150]\n",
      " [160 159 159 ... 141 138  90]\n",
      " ...\n",
      " [ 56  49  45 ...  76  84  90]\n",
      " [ 56  48  43 ...  83  95  95]\n",
      " [ 40  60  49 ...  96 103 106]] uint8\n",
      "[[   0.   -2.   -4. ...  172.  -48.    0.]\n",
      " [   0.   -2.   -3. ...  127.  -94.    0.]\n",
      " [   0.   -3.   -1. ...  -14. -161.    0.]\n",
      " ...\n",
      " [   0.  -42.   20. ...   76.   61.    0.]\n",
      " [   0.  -28.    6. ...   96.   48.    0.]\n",
      " [   0.   -8.   -8. ...   94.   44.    0.]] float32\n"
     ]
    }
   ],
   "source": [
    "# first we need grayscale image\n",
    "if len(img.shape) == 3: # if it is not a grayscale, then convert it to grayscale\n",
    "    gray = cv2.cvtColor(img,cv2.COLOR_BGR2GRAY)\n",
    "else: # otherwise we can use it\n",
    "    gray = img.copy()\n",
    "\n",
    "print(gray,gray.dtype)\n",
    "imgdx = cv2.Sobel(gray,ddepth=cv2.CV_32F,dx=1,dy=0,ksize=3)\n",
    "imgdy = cv2.Sobel(gray,ddepth=cv2.CV_32F,dx=0,dy=1,ksize=3)\n",
    "imgdx2 = cv2.Sobel(gray,ddepth=cv2.CV_32F,dx=2,dy=0,ksize=3)\n",
    "imgdy2 = cv2.Sobel(gray,ddepth=cv2.CV_32F,dx=0,dy=1,ksize=3)\n",
    "print(imgdx,imgdx.dtype)"
   ]
  },
  {
   "cell_type": "markdown",
   "metadata": {},
   "source": [
    "><b>cv2.convertScaleAbs()</b> converts img back to uint8\n",
    ">\n",
    ">for knowing more about its parameters read [doc.py](assets//doc.py) in the assets folder, and search the function in the py file"
   ]
  },
  {
   "cell_type": "code",
   "execution_count": 6,
   "metadata": {},
   "outputs": [
    {
     "name": "stdout",
     "output_type": "stream",
     "text": [
      "uint8\n"
     ]
    }
   ],
   "source": [
    "imgdx = cv2.convertScaleAbs(imgdx)\n",
    "imgdy = cv2.convertScaleAbs(imgdy)\n",
    "imgdx2 = cv2.convertScaleAbs(imgdx2)\n",
    "imgdy2 = cv2.convertScaleAbs(imgdy2)\n",
    "print(imgdx.dtype)\n",
    "cv2.imshow(\"imgdx\",imgdx)\n",
    "cv2.imshow(\"imgdy\",imgdy)\n",
    "cv2.imshow(\"imgdx2\",imgdx2)\n",
    "cv2.imshow(\"imgdy2\",imgdy2)\n",
    "cv2.waitKey(0)\n",
    "cv2.destroyAllWindows()"
   ]
  },
  {
   "cell_type": "markdown",
   "metadata": {},
   "source": [
    "><b>cv2.addWeighted(img1, alpha1, img2, alpha2, gamma)</b>\n",
    ">returns an image `output` such that\n",
    ">\n",
    ">`output` = <i>`@alpha1`</i> * <i>`@img1`</i> + <i>`@alpha2`</i> * <i>`@img2`</i> + <i>`@gamma`</i>\n",
    ">\n",
    ">and then clip all the value in between 0-255"
   ]
  },
  {
   "cell_type": "code",
   "execution_count": 64,
   "metadata": {},
   "outputs": [],
   "source": [
    "# lets get the combined gradients in x and y directions\n",
    "output = cv2.addWeighted(imgdx,0.5,imgdy,0.5,0)\n",
    "cv2.imshow(\"output\",output)\n",
    "cv2.waitKey(0)\n",
    "cv2.destroyAllWindows()"
   ]
  },
  {
   "cell_type": "markdown",
   "metadata": {},
   "source": [
    "><b>cv2.Canny(img, threshold1, threshold2)</b> find edges in an image\n",
    ">\n",
    "><i>`@threshold1`</i> lower limit of pixel gradients\n",
    ">\n",
    "><i>`@threshold2`</i> upper limit of pixel gradients\n",
    ">\n",
    ">for knowing more about its parameters read [doc.py](assets//doc.py) in the assets folder, and search the function in the py file\n",
    ">\n",
    ">play with with all the parameters of the function and see what happens\n",
    ">\n",
    ">[image edges](https://pyimagesearch.com/2021/05/12/opencv-edge-detection-cv2-canny/) for more reading\n",
    ">\n",
    ">[official opencv documentation for Canny](https://docs.opencv.org/4.x/da/d22/tutorial_py_canny.html)"
   ]
  },
  {
   "cell_type": "code",
   "execution_count": 5,
   "metadata": {},
   "outputs": [],
   "source": [
    "imgcanny = cv2.Canny(gray,30,150)\n",
    "cv2.imshow(\"canny\",imgcanny)\n",
    "cv2.waitKey(0)\n",
    "cv2.destroyAllWindows()"
   ]
  }
 ],
 "metadata": {
  "interpreter": {
   "hash": "1acc9de6222209ae68b885bb20af33354269db69f65eec804e0118f54b29f529"
  },
  "kernelspec": {
   "display_name": "Python 3.8.10 ('pythonX')",
   "language": "python",
   "name": "python3"
  },
  "language_info": {
   "codemirror_mode": {
    "name": "ipython",
    "version": 3
   },
   "file_extension": ".py",
   "mimetype": "text/x-python",
   "name": "python",
   "nbconvert_exporter": "python",
   "pygments_lexer": "ipython3",
   "version": "3.8.10"
  },
  "orig_nbformat": 4
 },
 "nbformat": 4,
 "nbformat_minor": 2
}
