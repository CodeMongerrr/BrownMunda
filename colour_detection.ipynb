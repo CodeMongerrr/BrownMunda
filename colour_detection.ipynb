{
 "cells": [
  {
   "cell_type": "code",
   "execution_count": null,
   "metadata": {
    "pycharm": {
     "name": "#%%\n",
     "is_executing": true
    }
   },
   "outputs": [],
   "source": [
    "import cv2\n",
    "import numpy as np"
   ]
  },
  {
   "cell_type": "code",
   "execution_count": null,
   "outputs": [],
   "source": [
    "img = cv2.imread(\"img5.jpg\")\n",
    "b,g,r = cv2.split(img)\n",
    "img_rgb = cv2.merge((r,g,b))\n",
    "cv2.imshow(\"original\",img)\n",
    "cv2.imshow(\"B\",b)\n",
    "cv2.imshow(\"G\",g)\n",
    "cv2.imshow(\"r\",r)\n",
    "cv2.imshow(\"imgrgb\",img_rgb)\n",
    "cv2.waitKey(0)\n",
    "cv2.destroyAllWindows()"
   ],
   "metadata": {
    "collapsed": false,
    "pycharm": {
     "name": "#%%\n",
     "is_executing": true
    }
   }
  },
  {
   "cell_type": "code",
   "execution_count": null,
   "outputs": [],
   "source": [
    "img = cv2.imread(\"img5.jpg\")\n",
    "hsv = cv2.cvtColor(img,cv2.COLOR_BGR2HSV)\n",
    "cv2.imshow(\"original\",img)\n",
    "cv2.imshow(\"HSV\",hsv)\n",
    "cv2.waitKey(0)\n",
    "cv2.destroyAllWindows()"
   ],
   "metadata": {
    "collapsed": false,
    "pycharm": {
     "name": "#%%\n",
     "is_executing": true
    }
   }
  },
  {
   "cell_type": "code",
   "execution_count": null,
   "metadata": {
    "pycharm": {
     "name": "#%%\n",
     "is_executing": true
    }
   },
   "outputs": [],
   "source": [
    "demo = np.zeros((512,512,3),np.uint8)\n",
    "cv2.imshow(\"output\",demo)"
   ]
  },
  {
   "cell_type": "code",
   "execution_count": null,
   "metadata": {
    "pycharm": {
     "name": "#%%\n",
     "is_executing": true
    }
   },
   "outputs": [],
   "source": [
    "def any(x):\n",
    "    pass\n",
    "cv2.namedWindow(\"BGR\")\n",
    "cv2.resizeWindow(\"BGR\",640,400)\n",
    "\n",
    "cv2.createTrackbar('B', \"BGR\", 0, 255, any)\n",
    "cv2.createTrackbar('G', \"BGR\", 0, 255, any)\n",
    "cv2.createTrackbar('R', \"BGR\", 0, 255, any)\n",
    "\n",
    "while True:\n",
    "    b = cv2.getTrackbarPos(\"B\",\"BGR\")\n",
    "    g = cv2.getTrackbarPos(\"G\",\"BGR\")\n",
    "    r = cv2.getTrackbarPos(\"R\",\"BGR\")\n",
    "    demo[:,:,0] = b\n",
    "    demo[:,:,1] = g\n",
    "    demo[:,:,2] = r\n",
    "    cv2.imshow(\"output\",demo)\n",
    "    if cv2.waitKey(1) == ord('q'):\n",
    "        break\n",
    "cv2.destroyAllWindows()"
   ]
  },
  {
   "cell_type": "code",
   "execution_count": null,
   "metadata": {
    "pycharm": {
     "name": "#%%\n",
     "is_executing": true
    }
   },
   "outputs": [],
   "source": [
    "demo_hsv = np.zeros((512,512,3),np.uint8)\n",
    "def any(x):\n",
    "    pass\n",
    "cv2.namedWindow(\"HSV\")\n",
    "cv2.resizeWindow(\"HSV\",640,400)\n",
    "\n",
    "cv2.createTrackbar('H', \"HSV\", 0, 179, any)\n",
    "cv2.createTrackbar('S', \"HSV\", 0, 255, any)\n",
    "cv2.createTrackbar('V', \"HSV\", 0, 255, any)\n",
    "\n",
    "while True:\n",
    "    h = cv2.getTrackbarPos(\"H\",\"HSV\")\n",
    "    s = cv2.getTrackbarPos(\"S\",\"HSV\")\n",
    "    v = cv2.getTrackbarPos(\"V\",\"HSV\")\n",
    "    demo_hsv[:,:,0] = h\n",
    "    demo_hsv[:,:,1] = s\n",
    "    demo_hsv[:,:,2] = v\n",
    "    demo = cv2.cvtColor(demo_hsv,cv2.COLOR_HSV2BGR)\n",
    "    cv2.imshow(\"output\",demo)\n",
    "    cv2.imshow(\"HSV\",demo_hsv)\n",
    "    if cv2.waitKey(1) == ord('q'):\n",
    "        break\n",
    "cv2.destroyAllWindows()"
   ]
  },
  {
   "cell_type": "code",
   "execution_count": null,
   "metadata": {
    "pycharm": {
     "name": "#%%\n",
     "is_executing": true
    }
   },
   "outputs": [],
   "source": [
    "img = cv2.imread(\"assets//images//lamborgini.jpg\")\n",
    "cv2.imshow(\"original\",img)\n",
    "cv2.waitKey(0)\n",
    "cv2.destroyAllWindows()"
   ]
  },
  {
   "cell_type": "code",
   "execution_count": null,
   "metadata": {
    "pycharm": {
     "name": "#%%\n",
     "is_executing": true
    }
   },
   "outputs": [],
   "source": [
    "cv2.namedWindow(\"trackbar\")\n",
    "cv2.resizeWindow(\"trackbar\",640,240)\n",
    "def any(x):\n",
    "    pass\n",
    "cv2.createTrackbar(\"hue min\",\"trackbar\",0,179,any)\n",
    "cv2.createTrackbar(\"hue max\",\"trackbar\",179,179,any)\n",
    "cv2.createTrackbar(\"sat min\",\"trackbar\",0,255,any)\n",
    "cv2.createTrackbar(\"sat max\",\"trackbar\",255,255,any)\n",
    "cv2.createTrackbar(\"val min\",\"trackbar\",0,255,any)\n",
    "cv2.createTrackbar(\"val max\",\"trackbar\",255,255,any)\n",
    "\n",
    "while True:\n",
    "    h_min=cv2.getTrackbarPos(\"hue min\",\"trackbar\")\n",
    "    h_max=cv2.getTrackbarPos(\"hue max\",\"trackbar\")\n",
    "    sat_min=cv2.getTrackbarPos(\"sat min\",\"trackbar\")\n",
    "    sat_max=cv2.getTrackbarPos(\"sat max\",\"trackbar\")\n",
    "    val_min=cv2.getTrackbarPos(\"val min\",\"trackbar\")\n",
    "    val_max=cv2.getTrackbarPos(\"val max\",\"trackbar\")\n",
    "    img_hsv = cv2.cvtColor(img,cv2.COLOR_BGR2HSV)\n",
    "    lower = np.array([h_min,sat_min,val_min])\n",
    "    upper = np.array([h_max,sat_max,val_max])\n",
    "    mask = cv2.inRange(img_hsv,lower,upper)\n",
    "    bitand = cv2.bitwise_and(img,img,mask=mask)\n",
    "    cv2.imshow(\"original\",img)\n",
    "    cv2.imshow(\"hsv\",img_hsv)\n",
    "    cv2.imshow(\"mask\",mask)\n",
    "    cv2.imshow(\"segmented\",bitand)\n",
    "    if cv2.waitKey(1) == ord('q'):\n",
    "        break\n",
    "cv2.destroyAllWindows()"
   ]
  },
  {
   "cell_type": "code",
   "execution_count": null,
   "metadata": {
    "pycharm": {
     "name": "#%%\n",
     "is_executing": true
    }
   },
   "outputs": [],
   "source": []
  },
  {
   "cell_type": "code",
   "execution_count": null,
   "outputs": [],
   "source": [],
   "metadata": {
    "collapsed": false,
    "pycharm": {
     "name": "#%%\n"
    }
   }
  },
  {
   "cell_type": "code",
   "execution_count": null,
   "outputs": [],
   "source": [],
   "metadata": {
    "collapsed": false,
    "pycharm": {
     "name": "#%%\n"
    }
   }
  }
 ],
 "metadata": {
  "interpreter": {
   "hash": "1acc9de6222209ae68b885bb20af33354269db69f65eec804e0118f54b29f529"
  },
  "kernelspec": {
   "display_name": "Python 3.8.10 ('pythonX')",
   "language": "python",
   "name": "python3"
  },
  "language_info": {
   "codemirror_mode": {
    "name": "ipython",
    "version": 3
   },
   "file_extension": ".py",
   "mimetype": "text/x-python",
   "name": "python",
   "nbconvert_exporter": "python",
   "pygments_lexer": "ipython3",
   "version": "3.8.10"
  },
  "orig_nbformat": 4
 },
 "nbformat": 4,
 "nbformat_minor": 2
}